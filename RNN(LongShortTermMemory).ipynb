{
 "cells": [
  {
   "cell_type": "code",
   "execution_count": 1,
   "id": "e580c108",
   "metadata": {},
   "outputs": [],
   "source": [
    "import pandas as pd\n",
    "import numpy as np\n",
    "import matplotlib.pyplot as plt\n",
    "import seaborn as sns\n",
    "import mplfinance as mpf\n",
    "import yfinance as yf\n",
    "import talib as ta\n",
    "\n",
    "from talib import RSI\n",
    "from talib import MACD\n",
    "from talib import STOCH\n",
    "from talib import EMA\n",
    "from talib import BBANDS\n",
    "\n",
    "import keras\n",
    "import tensorflow as tf\n",
    "from tensorflow.keras.models import Sequential\n",
    "from tensorflow.keras.layers import Dense, Activation, Flatten, LSTM\n",
    "from keras.optimizers import Adam"
   ]
  },
  {
   "cell_type": "code",
   "execution_count": 14,
   "id": "876efa45",
   "metadata": {},
   "outputs": [
    {
     "name": "stdout",
     "output_type": "stream",
     "text": [
      "[*********************100%***********************]  1 of 1 completed\n",
      "[*********************100%***********************]  1 of 1 completed\n",
      "[*********************100%***********************]  1 of 1 completed\n",
      "[*********************100%***********************]  1 of 1 completed\n",
      "[*********************100%***********************]  1 of 1 completed\n"
     ]
    }
   ],
   "source": [
    "SPY = yf.download('SPY', interval = '1d', prepost = False, repair = True)\n",
    "SPYmin = yf.download('SPY', interval = '1m', prepost = False, repair = True)\n",
    "SPYdy = yf.download('SPY', interval = '1d', prepost = False, repair = True)\n",
    "SPYwk = yf.download('SPY', interval = '1wk', prepost = False, repair = True)\n",
    "SPYmo = yf.download('SPY', interval = '1mo', prepost = False, repair = True)"
   ]
  },
  {
   "cell_type": "code",
   "execution_count": 3,
   "id": "ae38af85",
   "metadata": {},
   "outputs": [],
   "source": [
    "def indicators(ticker):\n",
    "    #Generates the indicators for the tickers\n",
    "    data = ticker\n",
    "    data['RSI'] = RSI(ticker.Close, 14)\n",
    "    macd = MACD(ticker.Close, 12, 26, 9)\n",
    "    data['macd'] = macd[0] * 100\n",
    "    data['macdSignal'] = macd[1] * 100\n",
    "    stoch = STOCH(ticker.High, ticker.Low, ticker.Close, fastk_period = 5, slowk_period = 3, slowd_period = 3)\n",
    "    data['SlowK'] = stoch[0]\n",
    "    data['SlowD'] = stoch[1]\n",
    "    BB = BBANDS(ticker.Close, timeperiod=20, nbdevup=2, nbdevdn=2, matype=0)\n",
    "    data['BB'] = ((data.Close - BB[1]) * 100/(BB[2] - BB[1]))\n",
    "    data['EMA'] = EMA(ticker.Close, timeperiod = 10)\n",
    "    data['Direction'] = ((data.Close - data.Close.shift(1)) > 0).astype(int)\n",
    "    data = data[['RSI', 'macd', 'macdSignal', 'SlowK', 'SlowD', 'BB', 'Direction']]\n",
    "    return data"
   ]
  },
  {
   "cell_type": "code",
   "execution_count": 4,
   "id": "86cae14b",
   "metadata": {},
   "outputs": [],
   "source": [
    "def computeDirection(symbol):\n",
    "    ticker = indicators(symbol)\n",
    "    ticker.Direction = ticker.Direction.shift(-1)\n",
    "    today =  ticker.iloc[-1,].to_frame().transpose() #Get current indicators to predict for the next move\n",
    "    ticker = ticker.dropna()\n",
    "    \n",
    "    model = Sequential([\n",
    "        LSTM(50,  input_shape=(6, 1), activation='relu'),\n",
    "        Dense(16, activation = 'relu'),\n",
    "        Dense(8, activation = 'relu'),\n",
    "        Dense(2, activation = 'softmax')\n",
    "])\n",
    "    \n",
    "    model.compile(Adam(lr = 0.001), loss = 'mean_squared_error', metrics = ['accuracy'])\n",
    "    \n",
    "    #last 20% of the data will be used for testing\n",
    "    testIndex = int(len(ticker)*0.8)\n",
    "    train = ticker[:testIndex]\n",
    "    test = ticker[testIndex:]\n",
    "    test = pd.concat([test, today])#merging the current test dataframe with current (today) \n",
    "    \n",
    "    #Using RSI, MACD and StochOsc for predicting the Direction\n",
    "    #Only using the preivous day indicators to predict the nect move\n",
    "    train_x = train[['RSI', 'macd', 'macdSignal', 'SlowK', 'SlowD', 'BB']]\n",
    "    train_y = pd.get_dummies(train['Direction']) #one hot encode for neural networks categorical\n",
    "    test_x = test[['RSI', 'macd', 'macdSignal', 'SlowK', 'SlowD', 'BB']]\n",
    "    test_y = pd.get_dummies(test['Direction'])\n",
    "    \n",
    "    model.fit(train_x, train_y, epochs = 20, verbose = 1)\n",
    "    \n",
    "    pred_y = model.predict(test_x)\n",
    "    pred_y = np.round(pred_y, decimals = 0)\n",
    "    pred_y = pd.DataFrame(pred_y).idxmax(axis = 1)\n",
    "    predtest_y = pd.DataFrame(test_y).idxmax(axis = 1)\n",
    "    return pd.DataFrame({'pred': pred_y, 'true': predtest_y.reset_index(drop = True)})"
   ]
  },
  {
   "cell_type": "code",
   "execution_count": 177,
   "id": "9d1194ab",
   "metadata": {
    "scrolled": true
   },
   "outputs": [
    {
     "name": "stderr",
     "output_type": "stream",
     "text": [
      "/var/folders/lj/tfjxb4wd4kx1kwshmxnt57840000gn/T/ipykernel_33321/1630530735.py:3: SettingWithCopyWarning: \n",
      "A value is trying to be set on a copy of a slice from a DataFrame.\n",
      "Try using .loc[row_indexer,col_indexer] = value instead\n",
      "\n",
      "See the caveats in the documentation: https://pandas.pydata.org/pandas-docs/stable/user_guide/indexing.html#returning-a-view-versus-a-copy\n",
      "  ticker.Direction = ticker.Direction.shift(-1)\n",
      "WARNING:absl:At this time, the v2.11+ optimizer `tf.keras.optimizers.Adam` runs slowly on M1/M2 Macs, please use the legacy Keras optimizer instead, located at `tf.keras.optimizers.legacy.Adam`.\n",
      "WARNING:absl:`lr` is deprecated in Keras optimizer, please use `learning_rate` or use the legacy optimizer, e.g.,tf.keras.optimizers.legacy.Adam.\n",
      "WARNING:absl:There is a known slowdown when using v2.11+ Keras optimizers on M1/M2 Macs. Falling back to the legacy Keras optimizer, i.e., `tf.keras.optimizers.legacy.Adam`.\n"
     ]
    },
    {
     "name": "stdout",
     "output_type": "stream",
     "text": [
      "Epoch 1/20\n",
      "191/191 [==============================] - 1s 2ms/step - loss: 0.2520 - accuracy: 0.5210\n",
      "Epoch 2/20\n",
      "191/191 [==============================] - 0s 2ms/step - loss: 0.2493 - accuracy: 0.5287\n",
      "Epoch 3/20\n",
      "191/191 [==============================] - 0s 2ms/step - loss: 0.2488 - accuracy: 0.5312\n",
      "Epoch 4/20\n",
      "191/191 [==============================] - 0s 2ms/step - loss: 0.2493 - accuracy: 0.5299\n",
      "Epoch 5/20\n",
      "191/191 [==============================] - 0s 2ms/step - loss: 0.2485 - accuracy: 0.5305\n",
      "Epoch 6/20\n",
      "191/191 [==============================] - 0s 2ms/step - loss: 0.2485 - accuracy: 0.5297\n",
      "Epoch 7/20\n",
      "191/191 [==============================] - 0s 2ms/step - loss: 0.2486 - accuracy: 0.5290\n",
      "Epoch 8/20\n",
      "191/191 [==============================] - 0s 2ms/step - loss: 0.2484 - accuracy: 0.5299\n",
      "Epoch 9/20\n",
      "191/191 [==============================] - 0s 2ms/step - loss: 0.2482 - accuracy: 0.5348\n",
      "Epoch 10/20\n",
      "191/191 [==============================] - 0s 2ms/step - loss: 0.2486 - accuracy: 0.5346\n",
      "Epoch 11/20\n",
      "191/191 [==============================] - 0s 2ms/step - loss: 0.2485 - accuracy: 0.5281\n",
      "Epoch 12/20\n",
      "191/191 [==============================] - 0s 2ms/step - loss: 0.2484 - accuracy: 0.5313\n",
      "Epoch 13/20\n",
      "191/191 [==============================] - 0s 2ms/step - loss: 0.2482 - accuracy: 0.5348\n",
      "Epoch 14/20\n",
      "191/191 [==============================] - 0s 2ms/step - loss: 0.2481 - accuracy: 0.5338\n",
      "Epoch 15/20\n",
      "191/191 [==============================] - 0s 2ms/step - loss: 0.2478 - accuracy: 0.5344\n",
      "Epoch 16/20\n",
      "191/191 [==============================] - 0s 2ms/step - loss: 0.2477 - accuracy: 0.5372\n",
      "Epoch 17/20\n",
      "191/191 [==============================] - 0s 2ms/step - loss: 0.2479 - accuracy: 0.5364\n",
      "Epoch 18/20\n",
      "191/191 [==============================] - 0s 2ms/step - loss: 0.2474 - accuracy: 0.5372\n",
      "Epoch 19/20\n",
      "191/191 [==============================] - 0s 2ms/step - loss: 0.2476 - accuracy: 0.5351\n",
      "Epoch 20/20\n",
      "191/191 [==============================] - 0s 2ms/step - loss: 0.2476 - accuracy: 0.5405\n",
      "48/48 [==============================] - 0s 730us/step\n"
     ]
    }
   ],
   "source": [
    "day = computeDirection(SPYdy)"
   ]
  },
  {
   "cell_type": "code",
   "execution_count": 178,
   "id": "2753887f",
   "metadata": {
    "scrolled": true
   },
   "outputs": [
    {
     "name": "stderr",
     "output_type": "stream",
     "text": [
      "/var/folders/lj/tfjxb4wd4kx1kwshmxnt57840000gn/T/ipykernel_33321/1630530735.py:3: SettingWithCopyWarning: \n",
      "A value is trying to be set on a copy of a slice from a DataFrame.\n",
      "Try using .loc[row_indexer,col_indexer] = value instead\n",
      "\n",
      "See the caveats in the documentation: https://pandas.pydata.org/pandas-docs/stable/user_guide/indexing.html#returning-a-view-versus-a-copy\n",
      "  ticker.Direction = ticker.Direction.shift(-1)\n",
      "WARNING:absl:At this time, the v2.11+ optimizer `tf.keras.optimizers.Adam` runs slowly on M1/M2 Macs, please use the legacy Keras optimizer instead, located at `tf.keras.optimizers.legacy.Adam`.\n",
      "WARNING:absl:`lr` is deprecated in Keras optimizer, please use `learning_rate` or use the legacy optimizer, e.g.,tf.keras.optimizers.legacy.Adam.\n",
      "WARNING:absl:There is a known slowdown when using v2.11+ Keras optimizers on M1/M2 Macs. Falling back to the legacy Keras optimizer, i.e., `tf.keras.optimizers.legacy.Adam`.\n"
     ]
    },
    {
     "name": "stdout",
     "output_type": "stream",
     "text": [
      "Epoch 1/20\n",
      "39/39 [==============================] - 1s 2ms/step - loss: 0.3061 - accuracy: 0.5322\n",
      "Epoch 2/20\n",
      "39/39 [==============================] - 0s 2ms/step - loss: 0.2699 - accuracy: 0.5515\n",
      "Epoch 3/20\n",
      "39/39 [==============================] - 0s 2ms/step - loss: 0.2531 - accuracy: 0.5539\n",
      "Epoch 4/20\n",
      "39/39 [==============================] - 0s 2ms/step - loss: 0.2492 - accuracy: 0.5700\n",
      "Epoch 5/20\n",
      "39/39 [==============================] - 0s 2ms/step - loss: 0.2447 - accuracy: 0.5733\n",
      "Epoch 6/20\n",
      "39/39 [==============================] - 0s 2ms/step - loss: 0.2431 - accuracy: 0.5717\n",
      "Epoch 7/20\n",
      "39/39 [==============================] - 0s 2ms/step - loss: 0.2407 - accuracy: 0.5878\n",
      "Epoch 8/20\n",
      "39/39 [==============================] - 0s 2ms/step - loss: 0.2388 - accuracy: 0.5910\n",
      "Epoch 9/20\n",
      "39/39 [==============================] - 0s 2ms/step - loss: 0.2365 - accuracy: 0.5910\n",
      "Epoch 10/20\n",
      "39/39 [==============================] - 0s 2ms/step - loss: 0.2350 - accuracy: 0.5918\n",
      "Epoch 11/20\n",
      "39/39 [==============================] - 0s 2ms/step - loss: 0.2353 - accuracy: 0.6014\n",
      "Epoch 12/20\n",
      "39/39 [==============================] - 0s 2ms/step - loss: 0.2366 - accuracy: 0.6023\n",
      "Epoch 13/20\n",
      "39/39 [==============================] - 0s 2ms/step - loss: 0.2338 - accuracy: 0.6063\n",
      "Epoch 14/20\n",
      "39/39 [==============================] - 0s 2ms/step - loss: 0.2322 - accuracy: 0.6151\n",
      "Epoch 15/20\n",
      "39/39 [==============================] - 0s 2ms/step - loss: 0.2281 - accuracy: 0.6256\n",
      "Epoch 16/20\n",
      "39/39 [==============================] - 0s 2ms/step - loss: 0.2278 - accuracy: 0.6135\n",
      "Epoch 17/20\n",
      "39/39 [==============================] - 0s 2ms/step - loss: 0.2308 - accuracy: 0.6167\n",
      "Epoch 18/20\n",
      "39/39 [==============================] - 0s 2ms/step - loss: 0.2292 - accuracy: 0.6151\n",
      "Epoch 19/20\n",
      "39/39 [==============================] - 0s 2ms/step - loss: 0.2299 - accuracy: 0.6184\n",
      "Epoch 20/20\n",
      "39/39 [==============================] - 0s 2ms/step - loss: 0.2288 - accuracy: 0.6111\n",
      "10/10 [==============================] - 0s 962us/step\n"
     ]
    }
   ],
   "source": [
    "week = computeDirection(SPYwk)"
   ]
  },
  {
   "cell_type": "code",
   "execution_count": 179,
   "id": "54a91d0f",
   "metadata": {
    "scrolled": true
   },
   "outputs": [
    {
     "name": "stderr",
     "output_type": "stream",
     "text": [
      "/var/folders/lj/tfjxb4wd4kx1kwshmxnt57840000gn/T/ipykernel_33321/1630530735.py:3: SettingWithCopyWarning: \n",
      "A value is trying to be set on a copy of a slice from a DataFrame.\n",
      "Try using .loc[row_indexer,col_indexer] = value instead\n",
      "\n",
      "See the caveats in the documentation: https://pandas.pydata.org/pandas-docs/stable/user_guide/indexing.html#returning-a-view-versus-a-copy\n",
      "  ticker.Direction = ticker.Direction.shift(-1)\n",
      "WARNING:absl:At this time, the v2.11+ optimizer `tf.keras.optimizers.Adam` runs slowly on M1/M2 Macs, please use the legacy Keras optimizer instead, located at `tf.keras.optimizers.legacy.Adam`.\n",
      "WARNING:absl:`lr` is deprecated in Keras optimizer, please use `learning_rate` or use the legacy optimizer, e.g.,tf.keras.optimizers.legacy.Adam.\n",
      "WARNING:absl:There is a known slowdown when using v2.11+ Keras optimizers on M1/M2 Macs. Falling back to the legacy Keras optimizer, i.e., `tf.keras.optimizers.legacy.Adam`.\n"
     ]
    },
    {
     "name": "stdout",
     "output_type": "stream",
     "text": [
      "Epoch 1/20\n",
      "9/9 [==============================] - 1s 3ms/step - loss: 0.3818 - accuracy: 0.6098\n",
      "Epoch 2/20\n",
      "9/9 [==============================] - 0s 2ms/step - loss: 0.3830 - accuracy: 0.6061\n",
      "Epoch 3/20\n",
      "9/9 [==============================] - 0s 2ms/step - loss: 0.3693 - accuracy: 0.6174\n",
      "Epoch 4/20\n",
      "9/9 [==============================] - 0s 2ms/step - loss: 0.3573 - accuracy: 0.6212\n",
      "Epoch 5/20\n",
      "9/9 [==============================] - 0s 2ms/step - loss: 0.3616 - accuracy: 0.6136\n",
      "Epoch 6/20\n",
      "9/9 [==============================] - 0s 2ms/step - loss: 0.3461 - accuracy: 0.6364\n",
      "Epoch 7/20\n",
      "9/9 [==============================] - 0s 2ms/step - loss: 0.3282 - accuracy: 0.6553\n",
      "Epoch 8/20\n",
      "9/9 [==============================] - 0s 2ms/step - loss: 0.3247 - accuracy: 0.6591\n",
      "Epoch 9/20\n",
      "9/9 [==============================] - 0s 2ms/step - loss: 0.3183 - accuracy: 0.6629\n",
      "Epoch 10/20\n",
      "9/9 [==============================] - 0s 2ms/step - loss: 0.2963 - accuracy: 0.6742\n",
      "Epoch 11/20\n",
      "9/9 [==============================] - 0s 2ms/step - loss: 0.2607 - accuracy: 0.6364\n",
      "Epoch 12/20\n",
      "9/9 [==============================] - 0s 2ms/step - loss: 0.2922 - accuracy: 0.6174\n",
      "Epoch 13/20\n",
      "9/9 [==============================] - 0s 2ms/step - loss: 0.3041 - accuracy: 0.6894\n",
      "Epoch 14/20\n",
      "9/9 [==============================] - 0s 2ms/step - loss: 0.2821 - accuracy: 0.6667\n",
      "Epoch 15/20\n",
      "9/9 [==============================] - 0s 2ms/step - loss: 0.2593 - accuracy: 0.5947\n",
      "Epoch 16/20\n",
      "9/9 [==============================] - 0s 2ms/step - loss: 0.2723 - accuracy: 0.6705\n",
      "Epoch 17/20\n",
      "9/9 [==============================] - 0s 2ms/step - loss: 0.2587 - accuracy: 0.5795\n",
      "Epoch 18/20\n",
      "9/9 [==============================] - 0s 2ms/step - loss: 0.2330 - accuracy: 0.6970\n",
      "Epoch 19/20\n",
      "9/9 [==============================] - 0s 2ms/step - loss: 0.2243 - accuracy: 0.7045\n",
      "Epoch 20/20\n",
      "9/9 [==============================] - 0s 2ms/step - loss: 0.2342 - accuracy: 0.6705\n",
      "3/3 [==============================] - 0s 1ms/step\n"
     ]
    }
   ],
   "source": [
    "month = computeDirection(SPYmo)"
   ]
  },
  {
   "cell_type": "code",
   "execution_count": 180,
   "id": "3af69894",
   "metadata": {},
   "outputs": [
    {
     "name": "stdout",
     "output_type": "stream",
     "text": [
      "Day: 0.5406290956749672, Week: 0.5641025641025641, Month: 0.5882352941176471\n"
     ]
    }
   ],
   "source": [
    "#With 16, 8 node Dense Layer\n",
    "day['Accuracy'] = day['pred'] == day['true']\n",
    "week['Accuracy'] = week['pred'] == week['true']\n",
    "month['Accuracy'] = month['pred'] == month['true']\n",
    "\n",
    "\n",
    "a = sum(day.Accuracy)/len(day.Accuracy)\n",
    "b = sum(week.Accuracy)/len(week.Accuracy)\n",
    "c = sum(month.Accuracy)/len(month.Accuracy)\n",
    "print(f'Day: {a}, Week: {b}, Month: {c}')"
   ]
  },
  {
   "cell_type": "code",
   "execution_count": 170,
   "id": "be3a0474",
   "metadata": {},
   "outputs": [
    {
     "name": "stdout",
     "output_type": "stream",
     "text": [
      "Day: 0.5131061598951507, Week: 0.48717948717948717, Month: 0.6470588235294118\n"
     ]
    }
   ],
   "source": [
    "#With 16, 16 node Dense Layer\n",
    "day['Accuracy'] = day['pred'] == day['true']\n",
    "week['Accuracy'] = week['pred'] == week['true']\n",
    "month['Accuracy'] = month['pred'] == month['true']\n",
    "\n",
    "\n",
    "a = sum(day.Accuracy)/len(day.Accuracy)\n",
    "b = sum(week.Accuracy)/len(week.Accuracy)\n",
    "c = sum(month.Accuracy)/len(month.Accuracy)\n",
    "print(f'Day: {a}, Week: {b}, Month: {c}')"
   ]
  },
  {
   "cell_type": "code",
   "execution_count": 70,
   "id": "bc1e0d2b",
   "metadata": {},
   "outputs": [
    {
     "name": "stdout",
     "output_type": "stream",
     "text": [
      "Day: 0.5363934426229509, Week: 0.5144694533762058, Month: 0.6268656716417911\n"
     ]
    }
   ],
   "source": [
    "#With 16, 32 node Dense Layer\n",
    "day['Accuracy'] = day['pred'] == day['true']\n",
    "week['Accuracy'] = week['pred'] == week['true']\n",
    "month['Accuracy'] = month['pred'] == month['true']\n",
    "\n",
    "\n",
    "a = sum(day.Accuracy)/len(day.Accuracy)\n",
    "b = sum(week.Accuracy)/len(week.Accuracy)\n",
    "c = sum(month.Accuracy)/len(month.Accuracy)\n",
    "print(f'Day: {a}, Week: {b}, Month: {c}')"
   ]
  },
  {
   "cell_type": "code",
   "execution_count": 60,
   "id": "25013630",
   "metadata": {},
   "outputs": [
    {
     "name": "stdout",
     "output_type": "stream",
     "text": [
      "Day: 0.5363934426229509, Week: 0.5048231511254019, Month: 0.6417910447761194\n"
     ]
    }
   ],
   "source": [
    "#With 16, 32, 16 node Dense Layer\n",
    "day['Accuracy'] = day['pred'] == day['true']\n",
    "week['Accuracy'] = week['pred'] == week['true']\n",
    "month['Accuracy'] = month['pred'] == month['true']\n",
    "\n",
    "\n",
    "a = sum(day.Accuracy)/len(day.Accuracy)\n",
    "b = sum(week.Accuracy)/len(week.Accuracy)\n",
    "c = sum(month.Accuracy)/len(month.Accuracy)\n",
    "print(f'Day: {a}, Week: {b}, Month: {c}')"
   ]
  },
  {
   "cell_type": "code",
   "execution_count": 181,
   "id": "6e06417c",
   "metadata": {},
   "outputs": [
    {
     "data": {
      "text/html": [
       "<div>\n",
       "<style scoped>\n",
       "    .dataframe tbody tr th:only-of-type {\n",
       "        vertical-align: middle;\n",
       "    }\n",
       "\n",
       "    .dataframe tbody tr th {\n",
       "        vertical-align: top;\n",
       "    }\n",
       "\n",
       "    .dataframe thead th {\n",
       "        text-align: right;\n",
       "    }\n",
       "</style>\n",
       "<table border=\"1\" class=\"dataframe\">\n",
       "  <thead>\n",
       "    <tr style=\"text-align: right;\">\n",
       "      <th></th>\n",
       "      <th>pred</th>\n",
       "      <th>true</th>\n",
       "      <th>Accuracy</th>\n",
       "    </tr>\n",
       "  </thead>\n",
       "  <tbody>\n",
       "    <tr>\n",
       "      <th>1521</th>\n",
       "      <td>1</td>\n",
       "      <td>0.0</td>\n",
       "      <td>False</td>\n",
       "    </tr>\n",
       "    <tr>\n",
       "      <th>1522</th>\n",
       "      <td>1</td>\n",
       "      <td>0.0</td>\n",
       "      <td>False</td>\n",
       "    </tr>\n",
       "    <tr>\n",
       "      <th>1523</th>\n",
       "      <td>1</td>\n",
       "      <td>1.0</td>\n",
       "      <td>True</td>\n",
       "    </tr>\n",
       "    <tr>\n",
       "      <th>1524</th>\n",
       "      <td>1</td>\n",
       "      <td>0.0</td>\n",
       "      <td>False</td>\n",
       "    </tr>\n",
       "    <tr>\n",
       "      <th>1525</th>\n",
       "      <td>1</td>\n",
       "      <td>0.0</td>\n",
       "      <td>False</td>\n",
       "    </tr>\n",
       "  </tbody>\n",
       "</table>\n",
       "</div>"
      ],
      "text/plain": [
       "      pred  true  Accuracy\n",
       "1521     1   0.0     False\n",
       "1522     1   0.0     False\n",
       "1523     1   1.0      True\n",
       "1524     1   0.0     False\n",
       "1525     1   0.0     False"
      ]
     },
     "execution_count": 181,
     "metadata": {},
     "output_type": "execute_result"
    }
   ],
   "source": [
    "#The last row is the prediction for the next day\n",
    "day.tail()"
   ]
  },
  {
   "cell_type": "code",
   "execution_count": 182,
   "id": "049270e5",
   "metadata": {},
   "outputs": [
    {
     "data": {
      "text/html": [
       "<div>\n",
       "<style scoped>\n",
       "    .dataframe tbody tr th:only-of-type {\n",
       "        vertical-align: middle;\n",
       "    }\n",
       "\n",
       "    .dataframe tbody tr th {\n",
       "        vertical-align: top;\n",
       "    }\n",
       "\n",
       "    .dataframe thead th {\n",
       "        text-align: right;\n",
       "    }\n",
       "</style>\n",
       "<table border=\"1\" class=\"dataframe\">\n",
       "  <thead>\n",
       "    <tr style=\"text-align: right;\">\n",
       "      <th></th>\n",
       "      <th>pred</th>\n",
       "      <th>true</th>\n",
       "      <th>Accuracy</th>\n",
       "    </tr>\n",
       "  </thead>\n",
       "  <tbody>\n",
       "    <tr>\n",
       "      <th>307</th>\n",
       "      <td>0</td>\n",
       "      <td>1.0</td>\n",
       "      <td>False</td>\n",
       "    </tr>\n",
       "    <tr>\n",
       "      <th>308</th>\n",
       "      <td>0</td>\n",
       "      <td>1.0</td>\n",
       "      <td>False</td>\n",
       "    </tr>\n",
       "    <tr>\n",
       "      <th>309</th>\n",
       "      <td>0</td>\n",
       "      <td>1.0</td>\n",
       "      <td>False</td>\n",
       "    </tr>\n",
       "    <tr>\n",
       "      <th>310</th>\n",
       "      <td>0</td>\n",
       "      <td>0.0</td>\n",
       "      <td>True</td>\n",
       "    </tr>\n",
       "    <tr>\n",
       "      <th>311</th>\n",
       "      <td>0</td>\n",
       "      <td>0.0</td>\n",
       "      <td>True</td>\n",
       "    </tr>\n",
       "  </tbody>\n",
       "</table>\n",
       "</div>"
      ],
      "text/plain": [
       "     pred  true  Accuracy\n",
       "307     0   1.0     False\n",
       "308     0   1.0     False\n",
       "309     0   1.0     False\n",
       "310     0   0.0      True\n",
       "311     0   0.0      True"
      ]
     },
     "execution_count": 182,
     "metadata": {},
     "output_type": "execute_result"
    }
   ],
   "source": [
    "#The last row is the prediction for the next week\n",
    "week.tail()"
   ]
  },
  {
   "cell_type": "code",
   "execution_count": 183,
   "id": "f7fadc5c",
   "metadata": {},
   "outputs": [
    {
     "data": {
      "text/html": [
       "<div>\n",
       "<style scoped>\n",
       "    .dataframe tbody tr th:only-of-type {\n",
       "        vertical-align: middle;\n",
       "    }\n",
       "\n",
       "    .dataframe tbody tr th {\n",
       "        vertical-align: top;\n",
       "    }\n",
       "\n",
       "    .dataframe thead th {\n",
       "        text-align: right;\n",
       "    }\n",
       "</style>\n",
       "<table border=\"1\" class=\"dataframe\">\n",
       "  <thead>\n",
       "    <tr style=\"text-align: right;\">\n",
       "      <th></th>\n",
       "      <th>pred</th>\n",
       "      <th>true</th>\n",
       "      <th>Accuracy</th>\n",
       "    </tr>\n",
       "  </thead>\n",
       "  <tbody>\n",
       "    <tr>\n",
       "      <th>63</th>\n",
       "      <td>1</td>\n",
       "      <td>1.0</td>\n",
       "      <td>True</td>\n",
       "    </tr>\n",
       "    <tr>\n",
       "      <th>64</th>\n",
       "      <td>0</td>\n",
       "      <td>1.0</td>\n",
       "      <td>False</td>\n",
       "    </tr>\n",
       "    <tr>\n",
       "      <th>65</th>\n",
       "      <td>0</td>\n",
       "      <td>1.0</td>\n",
       "      <td>False</td>\n",
       "    </tr>\n",
       "    <tr>\n",
       "      <th>66</th>\n",
       "      <td>0</td>\n",
       "      <td>1.0</td>\n",
       "      <td>False</td>\n",
       "    </tr>\n",
       "    <tr>\n",
       "      <th>67</th>\n",
       "      <td>1</td>\n",
       "      <td>0.0</td>\n",
       "      <td>False</td>\n",
       "    </tr>\n",
       "  </tbody>\n",
       "</table>\n",
       "</div>"
      ],
      "text/plain": [
       "    pred  true  Accuracy\n",
       "63     1   1.0      True\n",
       "64     0   1.0     False\n",
       "65     0   1.0     False\n",
       "66     0   1.0     False\n",
       "67     1   0.0     False"
      ]
     },
     "execution_count": 183,
     "metadata": {},
     "output_type": "execute_result"
    }
   ],
   "source": [
    "#The last row is the prediction for the next month\n",
    "month.tail()"
   ]
  },
  {
   "cell_type": "code",
   "execution_count": null,
   "id": "a45466ef",
   "metadata": {},
   "outputs": [],
   "source": []
  },
  {
   "cell_type": "code",
   "execution_count": 5,
   "id": "bf0d7c0d",
   "metadata": {},
   "outputs": [],
   "source": [
    "#Calculation of accuracy in a function\n",
    "def computeModel(symbol):\n",
    "    ticker = indicators(symbol)\n",
    "    ticker.Direction = ticker.Direction.shift(-1)\n",
    "    today =  ticker.iloc[-1,].to_frame().transpose() #Get current indicators to predict for the next move\n",
    "    ticker = ticker.dropna()\n",
    "    \n",
    "    model = Sequential([\n",
    "        LSTM(50,  input_shape=(6, 1), activation='relu'),\n",
    "        Dense(16, activation = 'relu'),\n",
    "        Dense(8, activation = 'relu'),\n",
    "        Dense(2, activation = 'softmax')\n",
    "])\n",
    "    \n",
    "    model.compile(Adam(lr = 0.001), loss = 'mean_squared_error', metrics = ['accuracy'])\n",
    "    \n",
    "    #last 20% of the data will be used for testing\n",
    "    testIndex = int(len(ticker)*0.8)\n",
    "    train = ticker[:testIndex]\n",
    "    test = ticker[testIndex:]\n",
    "    test = pd.concat([test, today])#merging the current test dataframe with current (today) \n",
    "    \n",
    "    #Using RSI, MACD and StochOsc for predicting the Direction\n",
    "    #Only using the preivous day indicators to predict the nect move\n",
    "    train_x = train[['RSI', 'macd', 'macdSignal', 'SlowK', 'SlowD', 'BB']]\n",
    "    train_y = pd.get_dummies(train['Direction']) #one hot encode for neural networks categorical\n",
    "    test_x = test[['RSI', 'macd', 'macdSignal', 'SlowK', 'SlowD', 'BB']]\n",
    "    test_y = pd.get_dummies(test['Direction'])\n",
    "    \n",
    "    model.fit(train_x, train_y, epochs = 20, verbose = 1)\n",
    "    return model\n",
    "\n",
    "def finalIndicatorTable(symbol):\n",
    "    ticker = indicators(symbol)\n",
    "    ticker.Direction = ticker.Direction.shift(-1)\n",
    "    return ticker\n",
    "\n",
    "def accuracyTester(ticker, model):\n",
    "    testIndex = int(len(ticker)*0.8)\n",
    "    train = ticker[:testIndex]\n",
    "    test = ticker[testIndex:]\n",
    "    \n",
    "    train_x = train[['RSI', 'macd', 'macdSignal', 'SlowK', 'SlowD', 'BB']]\n",
    "    train_y = pd.get_dummies(train['Direction']) #one hot encode for neural networks categorical\n",
    "    test_x = test[['RSI', 'macd', 'macdSignal', 'SlowK', 'SlowD', 'BB']]\n",
    "    test_y = pd.get_dummies(test['Direction'])\n",
    "    \n",
    "    pred_y = model.predict(test_x)\n",
    "    pred_y = np.round(pred_y, decimals = 0)\n",
    "    pred_y = pd.DataFrame(pred_y).idxmax(axis = 1)\n",
    "    predtest_y = pd.DataFrame(test_y).idxmax(axis = 1)\n",
    "    \n",
    "    df = pd.DataFrame({'pred': pred_y, 'true': predtest_y.reset_index(drop = True)})\n",
    "    \n",
    "    df['Accuracy'] = df['pred'] == df['true']\n",
    "    a = sum(df.Accuracy)/len(df.Accuracy)\n",
    "    print(f'Accuracy is: {a}')\n",
    "    \n",
    "    return df"
   ]
  },
  {
   "cell_type": "code",
   "execution_count": 7,
   "id": "c3e43d94",
   "metadata": {
    "scrolled": true
   },
   "outputs": [
    {
     "name": "stderr",
     "output_type": "stream",
     "text": [
      "/var/folders/lj/tfjxb4wd4kx1kwshmxnt57840000gn/T/ipykernel_76689/3298358840.py:4: SettingWithCopyWarning: \n",
      "A value is trying to be set on a copy of a slice from a DataFrame.\n",
      "Try using .loc[row_indexer,col_indexer] = value instead\n",
      "\n",
      "See the caveats in the documentation: https://pandas.pydata.org/pandas-docs/stable/user_guide/indexing.html#returning-a-view-versus-a-copy\n",
      "  ticker.Direction = ticker.Direction.shift(-1)\n",
      "WARNING:absl:At this time, the v2.11+ optimizer `tf.keras.optimizers.Adam` runs slowly on M1/M2 Macs, please use the legacy Keras optimizer instead, located at `tf.keras.optimizers.legacy.Adam`.\n",
      "WARNING:absl:`lr` is deprecated in Keras optimizer, please use `learning_rate` or use the legacy optimizer, e.g.,tf.keras.optimizers.legacy.Adam.\n",
      "WARNING:absl:There is a known slowdown when using v2.11+ Keras optimizers on M1/M2 Macs. Falling back to the legacy Keras optimizer, i.e., `tf.keras.optimizers.legacy.Adam`.\n"
     ]
    },
    {
     "name": "stdout",
     "output_type": "stream",
     "text": [
      "Epoch 1/20\n",
      "48/48 [==============================] - 1s 2ms/step - loss: 0.3047 - accuracy: 0.5023\n",
      "Epoch 2/20\n",
      "48/48 [==============================] - 0s 2ms/step - loss: 0.2607 - accuracy: 0.4958\n",
      "Epoch 3/20\n",
      "48/48 [==============================] - 0s 2ms/step - loss: 0.2537 - accuracy: 0.5056\n",
      "Epoch 4/20\n",
      "48/48 [==============================] - 0s 2ms/step - loss: 0.2540 - accuracy: 0.5193\n",
      "Epoch 5/20\n",
      "48/48 [==============================] - 0s 2ms/step - loss: 0.2502 - accuracy: 0.5160\n",
      "Epoch 6/20\n",
      "48/48 [==============================] - 0s 2ms/step - loss: 0.2491 - accuracy: 0.5415\n",
      "Epoch 7/20\n",
      "48/48 [==============================] - 0s 2ms/step - loss: 0.2482 - accuracy: 0.5441\n",
      "Epoch 8/20\n",
      "48/48 [==============================] - 0s 2ms/step - loss: 0.2468 - accuracy: 0.5460\n",
      "Epoch 9/20\n",
      "48/48 [==============================] - 0s 2ms/step - loss: 0.2456 - accuracy: 0.5558\n",
      "Epoch 10/20\n",
      "48/48 [==============================] - 0s 2ms/step - loss: 0.2479 - accuracy: 0.5376\n",
      "Epoch 11/20\n",
      "48/48 [==============================] - 0s 2ms/step - loss: 0.2484 - accuracy: 0.5212\n",
      "Epoch 12/20\n",
      "48/48 [==============================] - 0s 2ms/step - loss: 0.2453 - accuracy: 0.5434\n",
      "Epoch 13/20\n",
      "48/48 [==============================] - 0s 2ms/step - loss: 0.2448 - accuracy: 0.5474\n",
      "Epoch 14/20\n",
      "48/48 [==============================] - 0s 2ms/step - loss: 0.2451 - accuracy: 0.5519\n",
      "Epoch 15/20\n",
      "48/48 [==============================] - 0s 2ms/step - loss: 0.2443 - accuracy: 0.5807\n",
      "Epoch 16/20\n",
      "48/48 [==============================] - 0s 2ms/step - loss: 0.2436 - accuracy: 0.5604\n",
      "Epoch 17/20\n",
      "48/48 [==============================] - 0s 2ms/step - loss: 0.2440 - accuracy: 0.5604\n",
      "Epoch 18/20\n",
      "48/48 [==============================] - 0s 2ms/step - loss: 0.2454 - accuracy: 0.5493\n",
      "Epoch 19/20\n",
      "48/48 [==============================] - 0s 2ms/step - loss: 0.2433 - accuracy: 0.5669\n",
      "Epoch 20/20\n",
      "48/48 [==============================] - 0s 2ms/step - loss: 0.2440 - accuracy: 0.5572\n"
     ]
    }
   ],
   "source": [
    "modelMin = computeModel(SPYmin)"
   ]
  },
  {
   "cell_type": "code",
   "execution_count": 22,
   "id": "ead8af51",
   "metadata": {},
   "outputs": [
    {
     "name": "stdout",
     "output_type": "stream",
     "text": [
      "[*********************100%***********************]  1 of 1 completed\n",
      "13/13 [==============================] - 0s 826us/step\n",
      "Accuracy is: 0.5384615384615384\n"
     ]
    },
    {
     "name": "stderr",
     "output_type": "stream",
     "text": [
      "/var/folders/lj/tfjxb4wd4kx1kwshmxnt57840000gn/T/ipykernel_76689/3298358840.py:35: SettingWithCopyWarning: \n",
      "A value is trying to be set on a copy of a slice from a DataFrame.\n",
      "Try using .loc[row_indexer,col_indexer] = value instead\n",
      "\n",
      "See the caveats in the documentation: https://pandas.pydata.org/pandas-docs/stable/user_guide/indexing.html#returning-a-view-versus-a-copy\n",
      "  ticker.Direction = ticker.Direction.shift(-1)\n"
     ]
    },
    {
     "data": {
      "text/html": [
       "<div>\n",
       "<style scoped>\n",
       "    .dataframe tbody tr th:only-of-type {\n",
       "        vertical-align: middle;\n",
       "    }\n",
       "\n",
       "    .dataframe tbody tr th {\n",
       "        vertical-align: top;\n",
       "    }\n",
       "\n",
       "    .dataframe thead th {\n",
       "        text-align: right;\n",
       "    }\n",
       "</style>\n",
       "<table border=\"1\" class=\"dataframe\">\n",
       "  <thead>\n",
       "    <tr style=\"text-align: right;\">\n",
       "      <th></th>\n",
       "      <th>pred</th>\n",
       "      <th>true</th>\n",
       "      <th>Accuracy</th>\n",
       "    </tr>\n",
       "  </thead>\n",
       "  <tbody>\n",
       "    <tr>\n",
       "      <th>0</th>\n",
       "      <td>1</td>\n",
       "      <td>0.0</td>\n",
       "      <td>False</td>\n",
       "    </tr>\n",
       "    <tr>\n",
       "      <th>1</th>\n",
       "      <td>1</td>\n",
       "      <td>1.0</td>\n",
       "      <td>True</td>\n",
       "    </tr>\n",
       "    <tr>\n",
       "      <th>2</th>\n",
       "      <td>1</td>\n",
       "      <td>1.0</td>\n",
       "      <td>True</td>\n",
       "    </tr>\n",
       "    <tr>\n",
       "      <th>3</th>\n",
       "      <td>1</td>\n",
       "      <td>1.0</td>\n",
       "      <td>True</td>\n",
       "    </tr>\n",
       "    <tr>\n",
       "      <th>4</th>\n",
       "      <td>1</td>\n",
       "      <td>1.0</td>\n",
       "      <td>True</td>\n",
       "    </tr>\n",
       "    <tr>\n",
       "      <th>...</th>\n",
       "      <td>...</td>\n",
       "      <td>...</td>\n",
       "      <td>...</td>\n",
       "    </tr>\n",
       "    <tr>\n",
       "      <th>385</th>\n",
       "      <td>1</td>\n",
       "      <td>0.0</td>\n",
       "      <td>False</td>\n",
       "    </tr>\n",
       "    <tr>\n",
       "      <th>386</th>\n",
       "      <td>0</td>\n",
       "      <td>1.0</td>\n",
       "      <td>False</td>\n",
       "    </tr>\n",
       "    <tr>\n",
       "      <th>387</th>\n",
       "      <td>0</td>\n",
       "      <td>0.0</td>\n",
       "      <td>True</td>\n",
       "    </tr>\n",
       "    <tr>\n",
       "      <th>388</th>\n",
       "      <td>0</td>\n",
       "      <td>1.0</td>\n",
       "      <td>False</td>\n",
       "    </tr>\n",
       "    <tr>\n",
       "      <th>389</th>\n",
       "      <td>1</td>\n",
       "      <td>0.0</td>\n",
       "      <td>False</td>\n",
       "    </tr>\n",
       "  </tbody>\n",
       "</table>\n",
       "<p>390 rows × 3 columns</p>\n",
       "</div>"
      ],
      "text/plain": [
       "     pred  true  Accuracy\n",
       "0       1   0.0     False\n",
       "1       1   1.0      True\n",
       "2       1   1.0      True\n",
       "3       1   1.0      True\n",
       "4       1   1.0      True\n",
       "..    ...   ...       ...\n",
       "385     1   0.0     False\n",
       "386     0   1.0     False\n",
       "387     0   0.0      True\n",
       "388     0   1.0     False\n",
       "389     1   0.0     False\n",
       "\n",
       "[390 rows x 3 columns]"
      ]
     },
     "execution_count": 22,
     "metadata": {},
     "output_type": "execute_result"
    }
   ],
   "source": [
    "#Predicting the move for the next MINUTE\n",
    "SPYmin = yf.download('SPY', interval = '1m', prepost = False, repair = True)\n",
    "SPYmin = finalIndicatorTable(SPYmin)\n",
    "accuracyTester(SPYmin, modelMin)\n",
    "#The last row is the prediction -> one hot encode for NaN is [0, 0]"
   ]
  },
  {
   "cell_type": "code",
   "execution_count": 15,
   "id": "d90f02e8",
   "metadata": {
    "scrolled": true
   },
   "outputs": [
    {
     "name": "stderr",
     "output_type": "stream",
     "text": [
      "/var/folders/lj/tfjxb4wd4kx1kwshmxnt57840000gn/T/ipykernel_89999/3298358840.py:4: SettingWithCopyWarning: \n",
      "A value is trying to be set on a copy of a slice from a DataFrame.\n",
      "Try using .loc[row_indexer,col_indexer] = value instead\n",
      "\n",
      "See the caveats in the documentation: https://pandas.pydata.org/pandas-docs/stable/user_guide/indexing.html#returning-a-view-versus-a-copy\n",
      "  ticker.Direction = ticker.Direction.shift(-1)\n",
      "WARNING:absl:At this time, the v2.11+ optimizer `tf.keras.optimizers.Adam` runs slowly on M1/M2 Macs, please use the legacy Keras optimizer instead, located at `tf.keras.optimizers.legacy.Adam`.\n",
      "WARNING:absl:`lr` is deprecated in Keras optimizer, please use `learning_rate` or use the legacy optimizer, e.g.,tf.keras.optimizers.legacy.Adam.\n",
      "WARNING:absl:There is a known slowdown when using v2.11+ Keras optimizers on M1/M2 Macs. Falling back to the legacy Keras optimizer, i.e., `tf.keras.optimizers.legacy.Adam`.\n"
     ]
    },
    {
     "name": "stdout",
     "output_type": "stream",
     "text": [
      "Epoch 1/20\n",
      "191/191 [==============================] - 1s 2ms/step - loss: 0.2836 - accuracy: 0.5066\n",
      "Epoch 2/20\n",
      "191/191 [==============================] - 0s 2ms/step - loss: 0.2550 - accuracy: 0.5246\n",
      "Epoch 3/20\n",
      "191/191 [==============================] - 0s 2ms/step - loss: 0.2523 - accuracy: 0.5252\n",
      "Epoch 4/20\n",
      "191/191 [==============================] - 0s 2ms/step - loss: 0.2501 - accuracy: 0.5218\n",
      "Epoch 5/20\n",
      "191/191 [==============================] - 0s 2ms/step - loss: 0.2502 - accuracy: 0.5270\n",
      "Epoch 6/20\n",
      "191/191 [==============================] - 0s 2ms/step - loss: 0.2493 - accuracy: 0.5259\n",
      "Epoch 7/20\n",
      "191/191 [==============================] - 0s 2ms/step - loss: 0.2492 - accuracy: 0.5310\n",
      "Epoch 8/20\n",
      "191/191 [==============================] - 0s 2ms/step - loss: 0.2491 - accuracy: 0.5272\n",
      "Epoch 9/20\n",
      "191/191 [==============================] - 0s 2ms/step - loss: 0.2488 - accuracy: 0.5292\n",
      "Epoch 10/20\n",
      "191/191 [==============================] - 0s 2ms/step - loss: 0.2489 - accuracy: 0.5302\n",
      "Epoch 11/20\n",
      "191/191 [==============================] - 0s 2ms/step - loss: 0.2483 - accuracy: 0.5259\n",
      "Epoch 12/20\n",
      "191/191 [==============================] - 0s 2ms/step - loss: 0.2482 - accuracy: 0.5305\n",
      "Epoch 13/20\n",
      "191/191 [==============================] - 0s 2ms/step - loss: 0.2483 - accuracy: 0.5280\n",
      "Epoch 14/20\n",
      "191/191 [==============================] - 0s 2ms/step - loss: 0.2480 - accuracy: 0.5293\n",
      "Epoch 15/20\n",
      "191/191 [==============================] - 0s 2ms/step - loss: 0.2480 - accuracy: 0.5325\n",
      "Epoch 16/20\n",
      "191/191 [==============================] - 0s 2ms/step - loss: 0.2478 - accuracy: 0.5295\n",
      "Epoch 17/20\n",
      "191/191 [==============================] - 0s 2ms/step - loss: 0.2478 - accuracy: 0.5289\n",
      "Epoch 18/20\n",
      "191/191 [==============================] - 0s 2ms/step - loss: 0.2478 - accuracy: 0.5326\n",
      "Epoch 19/20\n",
      "191/191 [==============================] - 0s 2ms/step - loss: 0.2484 - accuracy: 0.5310\n",
      "Epoch 20/20\n",
      "191/191 [==============================] - 0s 2ms/step - loss: 0.2479 - accuracy: 0.5285\n"
     ]
    }
   ],
   "source": [
    "modelDaily = computeModel(SPYdy)"
   ]
  },
  {
   "cell_type": "code",
   "execution_count": 16,
   "id": "4d2101b3",
   "metadata": {},
   "outputs": [
    {
     "name": "stdout",
     "output_type": "stream",
     "text": [
      "[*********************100%***********************]  1 of 1 completed\n",
      "WARNING:tensorflow:5 out of the last 11 calls to <function Model.make_predict_function.<locals>.predict_function at 0x28118a4d0> triggered tf.function retracing. Tracing is expensive and the excessive number of tracings could be due to (1) creating @tf.function repeatedly in a loop, (2) passing tensors with different shapes, (3) passing Python objects instead of tensors. For (1), please define your @tf.function outside of the loop. For (2), @tf.function has reduce_retracing=True option that can avoid unnecessary retracing. For (3), please refer to https://www.tensorflow.org/guide/function#controlling_retracing and https://www.tensorflow.org/api_docs/python/tf/function for  more details.\n"
     ]
    },
    {
     "name": "stderr",
     "output_type": "stream",
     "text": [
      "/var/folders/lj/tfjxb4wd4kx1kwshmxnt57840000gn/T/ipykernel_89999/3298358840.py:35: SettingWithCopyWarning: \n",
      "A value is trying to be set on a copy of a slice from a DataFrame.\n",
      "Try using .loc[row_indexer,col_indexer] = value instead\n",
      "\n",
      "See the caveats in the documentation: https://pandas.pydata.org/pandas-docs/stable/user_guide/indexing.html#returning-a-view-versus-a-copy\n",
      "  ticker.Direction = ticker.Direction.shift(-1)\n",
      "WARNING:tensorflow:5 out of the last 11 calls to <function Model.make_predict_function.<locals>.predict_function at 0x28118a4d0> triggered tf.function retracing. Tracing is expensive and the excessive number of tracings could be due to (1) creating @tf.function repeatedly in a loop, (2) passing tensors with different shapes, (3) passing Python objects instead of tensors. For (1), please define your @tf.function outside of the loop. For (2), @tf.function has reduce_retracing=True option that can avoid unnecessary retracing. For (3), please refer to https://www.tensorflow.org/guide/function#controlling_retracing and https://www.tensorflow.org/api_docs/python/tf/function for  more details.\n"
     ]
    },
    {
     "name": "stdout",
     "output_type": "stream",
     "text": [
      "3/3 [==============================] - 0s 1ms/step\n",
      "Accuracy is: 0.5866666666666667\n"
     ]
    },
    {
     "data": {
      "text/html": [
       "<div>\n",
       "<style scoped>\n",
       "    .dataframe tbody tr th:only-of-type {\n",
       "        vertical-align: middle;\n",
       "    }\n",
       "\n",
       "    .dataframe tbody tr th {\n",
       "        vertical-align: top;\n",
       "    }\n",
       "\n",
       "    .dataframe thead th {\n",
       "        text-align: right;\n",
       "    }\n",
       "</style>\n",
       "<table border=\"1\" class=\"dataframe\">\n",
       "  <thead>\n",
       "    <tr style=\"text-align: right;\">\n",
       "      <th></th>\n",
       "      <th>pred</th>\n",
       "      <th>true</th>\n",
       "      <th>Accuracy</th>\n",
       "    </tr>\n",
       "  </thead>\n",
       "  <tbody>\n",
       "    <tr>\n",
       "      <th>65</th>\n",
       "      <td>1</td>\n",
       "      <td>0.0</td>\n",
       "      <td>False</td>\n",
       "    </tr>\n",
       "    <tr>\n",
       "      <th>66</th>\n",
       "      <td>1</td>\n",
       "      <td>0.0</td>\n",
       "      <td>False</td>\n",
       "    </tr>\n",
       "    <tr>\n",
       "      <th>67</th>\n",
       "      <td>1</td>\n",
       "      <td>1.0</td>\n",
       "      <td>True</td>\n",
       "    </tr>\n",
       "    <tr>\n",
       "      <th>68</th>\n",
       "      <td>1</td>\n",
       "      <td>0.0</td>\n",
       "      <td>False</td>\n",
       "    </tr>\n",
       "    <tr>\n",
       "      <th>69</th>\n",
       "      <td>1</td>\n",
       "      <td>0.0</td>\n",
       "      <td>False</td>\n",
       "    </tr>\n",
       "    <tr>\n",
       "      <th>70</th>\n",
       "      <td>1</td>\n",
       "      <td>1.0</td>\n",
       "      <td>True</td>\n",
       "    </tr>\n",
       "    <tr>\n",
       "      <th>71</th>\n",
       "      <td>1</td>\n",
       "      <td>1.0</td>\n",
       "      <td>True</td>\n",
       "    </tr>\n",
       "    <tr>\n",
       "      <th>72</th>\n",
       "      <td>1</td>\n",
       "      <td>1.0</td>\n",
       "      <td>True</td>\n",
       "    </tr>\n",
       "    <tr>\n",
       "      <th>73</th>\n",
       "      <td>1</td>\n",
       "      <td>1.0</td>\n",
       "      <td>True</td>\n",
       "    </tr>\n",
       "    <tr>\n",
       "      <th>74</th>\n",
       "      <td>1</td>\n",
       "      <td>0.0</td>\n",
       "      <td>False</td>\n",
       "    </tr>\n",
       "  </tbody>\n",
       "</table>\n",
       "</div>"
      ],
      "text/plain": [
       "    pred  true  Accuracy\n",
       "65     1   0.0     False\n",
       "66     1   0.0     False\n",
       "67     1   1.0      True\n",
       "68     1   0.0     False\n",
       "69     1   0.0     False\n",
       "70     1   1.0      True\n",
       "71     1   1.0      True\n",
       "72     1   1.0      True\n",
       "73     1   1.0      True\n",
       "74     1   0.0     False"
      ]
     },
     "execution_count": 16,
     "metadata": {},
     "output_type": "execute_result"
    }
   ],
   "source": [
    "#Predicting the move for the next DAY\n",
    "SPYtoday = yf.download('SPY', start = '2022-01-01', interval = '1d', prepost = False, repair = True)\n",
    "SPYtodayx = finalIndicatorTable(SPYtoday)\n",
    "accuracyTester(SPYtodayx, modelDaily).tail(10)\n",
    "#The last row is the prediction -> one hot encode for NaN is [0, 0]"
   ]
  },
  {
   "cell_type": "code",
   "execution_count": 17,
   "id": "dc94ef4e",
   "metadata": {},
   "outputs": [
    {
     "name": "stderr",
     "output_type": "stream",
     "text": [
      "/var/folders/lj/tfjxb4wd4kx1kwshmxnt57840000gn/T/ipykernel_89999/3298358840.py:4: SettingWithCopyWarning: \n",
      "A value is trying to be set on a copy of a slice from a DataFrame.\n",
      "Try using .loc[row_indexer,col_indexer] = value instead\n",
      "\n",
      "See the caveats in the documentation: https://pandas.pydata.org/pandas-docs/stable/user_guide/indexing.html#returning-a-view-versus-a-copy\n",
      "  ticker.Direction = ticker.Direction.shift(-1)\n",
      "WARNING:absl:At this time, the v2.11+ optimizer `tf.keras.optimizers.Adam` runs slowly on M1/M2 Macs, please use the legacy Keras optimizer instead, located at `tf.keras.optimizers.legacy.Adam`.\n",
      "WARNING:absl:`lr` is deprecated in Keras optimizer, please use `learning_rate` or use the legacy optimizer, e.g.,tf.keras.optimizers.legacy.Adam.\n",
      "WARNING:absl:There is a known slowdown when using v2.11+ Keras optimizers on M1/M2 Macs. Falling back to the legacy Keras optimizer, i.e., `tf.keras.optimizers.legacy.Adam`.\n"
     ]
    },
    {
     "name": "stdout",
     "output_type": "stream",
     "text": [
      "Epoch 1/20\n",
      "39/39 [==============================] - 1s 2ms/step - loss: 0.3337 - accuracy: 0.5076\n",
      "Epoch 2/20\n",
      "39/39 [==============================] - 0s 2ms/step - loss: 0.2865 - accuracy: 0.5366\n",
      "Epoch 3/20\n",
      "39/39 [==============================] - 0s 2ms/step - loss: 0.2623 - accuracy: 0.5455\n",
      "Epoch 4/20\n",
      "39/39 [==============================] - 0s 2ms/step - loss: 0.2629 - accuracy: 0.5543\n",
      "Epoch 5/20\n",
      "39/39 [==============================] - 0s 2ms/step - loss: 0.2510 - accuracy: 0.5664\n",
      "Epoch 6/20\n",
      "39/39 [==============================] - 0s 2ms/step - loss: 0.2459 - accuracy: 0.5704\n",
      "Epoch 7/20\n",
      "39/39 [==============================] - 0s 2ms/step - loss: 0.2432 - accuracy: 0.5768\n",
      "Epoch 8/20\n",
      "39/39 [==============================] - 0s 2ms/step - loss: 0.2377 - accuracy: 0.5881\n",
      "Epoch 9/20\n",
      "39/39 [==============================] - 0s 2ms/step - loss: 0.2394 - accuracy: 0.5897\n",
      "Epoch 10/20\n",
      "39/39 [==============================] - 0s 2ms/step - loss: 0.2386 - accuracy: 0.5873\n",
      "Epoch 11/20\n",
      "39/39 [==============================] - 0s 2ms/step - loss: 0.2354 - accuracy: 0.5873\n",
      "Epoch 12/20\n",
      "39/39 [==============================] - 0s 2ms/step - loss: 0.2339 - accuracy: 0.5953\n",
      "Epoch 13/20\n",
      "39/39 [==============================] - 0s 2ms/step - loss: 0.2302 - accuracy: 0.6026\n",
      "Epoch 14/20\n",
      "39/39 [==============================] - 0s 2ms/step - loss: 0.2272 - accuracy: 0.6138\n",
      "Epoch 15/20\n",
      "39/39 [==============================] - 0s 2ms/step - loss: 0.2269 - accuracy: 0.6082\n",
      "Epoch 16/20\n",
      "39/39 [==============================] - 0s 2ms/step - loss: 0.2312 - accuracy: 0.6026\n",
      "Epoch 17/20\n",
      "39/39 [==============================] - 0s 2ms/step - loss: 0.2283 - accuracy: 0.6138\n",
      "Epoch 18/20\n",
      "39/39 [==============================] - 0s 2ms/step - loss: 0.2237 - accuracy: 0.6340\n",
      "Epoch 19/20\n",
      "39/39 [==============================] - 0s 2ms/step - loss: 0.2218 - accuracy: 0.6315\n",
      "Epoch 20/20\n",
      "39/39 [==============================] - 0s 2ms/step - loss: 0.2205 - accuracy: 0.6428\n"
     ]
    }
   ],
   "source": [
    "modelWeek = computeModel(SPYwk)"
   ]
  },
  {
   "cell_type": "code",
   "execution_count": 18,
   "id": "0ea4c7d7",
   "metadata": {},
   "outputs": [
    {
     "name": "stdout",
     "output_type": "stream",
     "text": [
      "[*********************100%***********************]  1 of 1 completed\n",
      "WARNING:tensorflow:5 out of the last 11 calls to <function Model.make_predict_function.<locals>.predict_function at 0x1778aa440> triggered tf.function retracing. Tracing is expensive and the excessive number of tracings could be due to (1) creating @tf.function repeatedly in a loop, (2) passing tensors with different shapes, (3) passing Python objects instead of tensors. For (1), please define your @tf.function outside of the loop. For (2), @tf.function has reduce_retracing=True option that can avoid unnecessary retracing. For (3), please refer to https://www.tensorflow.org/guide/function#controlling_retracing and https://www.tensorflow.org/api_docs/python/tf/function for  more details.\n"
     ]
    },
    {
     "name": "stderr",
     "output_type": "stream",
     "text": [
      "/var/folders/lj/tfjxb4wd4kx1kwshmxnt57840000gn/T/ipykernel_89999/3298358840.py:35: SettingWithCopyWarning: \n",
      "A value is trying to be set on a copy of a slice from a DataFrame.\n",
      "Try using .loc[row_indexer,col_indexer] = value instead\n",
      "\n",
      "See the caveats in the documentation: https://pandas.pydata.org/pandas-docs/stable/user_guide/indexing.html#returning-a-view-versus-a-copy\n",
      "  ticker.Direction = ticker.Direction.shift(-1)\n",
      "WARNING:tensorflow:5 out of the last 11 calls to <function Model.make_predict_function.<locals>.predict_function at 0x1778aa440> triggered tf.function retracing. Tracing is expensive and the excessive number of tracings could be due to (1) creating @tf.function repeatedly in a loop, (2) passing tensors with different shapes, (3) passing Python objects instead of tensors. For (1), please define your @tf.function outside of the loop. For (2), @tf.function has reduce_retracing=True option that can avoid unnecessary retracing. For (3), please refer to https://www.tensorflow.org/guide/function#controlling_retracing and https://www.tensorflow.org/api_docs/python/tf/function for  more details.\n"
     ]
    },
    {
     "name": "stdout",
     "output_type": "stream",
     "text": [
      "2/2 [==============================] - 0s 2ms/step\n",
      "Accuracy is: 0.5675675675675675\n"
     ]
    },
    {
     "data": {
      "text/html": [
       "<div>\n",
       "<style scoped>\n",
       "    .dataframe tbody tr th:only-of-type {\n",
       "        vertical-align: middle;\n",
       "    }\n",
       "\n",
       "    .dataframe tbody tr th {\n",
       "        vertical-align: top;\n",
       "    }\n",
       "\n",
       "    .dataframe thead th {\n",
       "        text-align: right;\n",
       "    }\n",
       "</style>\n",
       "<table border=\"1\" class=\"dataframe\">\n",
       "  <thead>\n",
       "    <tr style=\"text-align: right;\">\n",
       "      <th></th>\n",
       "      <th>pred</th>\n",
       "      <th>true</th>\n",
       "      <th>Accuracy</th>\n",
       "    </tr>\n",
       "  </thead>\n",
       "  <tbody>\n",
       "    <tr>\n",
       "      <th>27</th>\n",
       "      <td>1</td>\n",
       "      <td>1.0</td>\n",
       "      <td>True</td>\n",
       "    </tr>\n",
       "    <tr>\n",
       "      <th>28</th>\n",
       "      <td>0</td>\n",
       "      <td>0.0</td>\n",
       "      <td>True</td>\n",
       "    </tr>\n",
       "    <tr>\n",
       "      <th>29</th>\n",
       "      <td>1</td>\n",
       "      <td>1.0</td>\n",
       "      <td>True</td>\n",
       "    </tr>\n",
       "    <tr>\n",
       "      <th>30</th>\n",
       "      <td>0</td>\n",
       "      <td>1.0</td>\n",
       "      <td>False</td>\n",
       "    </tr>\n",
       "    <tr>\n",
       "      <th>31</th>\n",
       "      <td>1</td>\n",
       "      <td>1.0</td>\n",
       "      <td>True</td>\n",
       "    </tr>\n",
       "    <tr>\n",
       "      <th>32</th>\n",
       "      <td>1</td>\n",
       "      <td>1.0</td>\n",
       "      <td>True</td>\n",
       "    </tr>\n",
       "    <tr>\n",
       "      <th>33</th>\n",
       "      <td>1</td>\n",
       "      <td>1.0</td>\n",
       "      <td>True</td>\n",
       "    </tr>\n",
       "    <tr>\n",
       "      <th>34</th>\n",
       "      <td>0</td>\n",
       "      <td>0.0</td>\n",
       "      <td>True</td>\n",
       "    </tr>\n",
       "    <tr>\n",
       "      <th>35</th>\n",
       "      <td>0</td>\n",
       "      <td>1.0</td>\n",
       "      <td>False</td>\n",
       "    </tr>\n",
       "    <tr>\n",
       "      <th>36</th>\n",
       "      <td>0</td>\n",
       "      <td>0.0</td>\n",
       "      <td>True</td>\n",
       "    </tr>\n",
       "  </tbody>\n",
       "</table>\n",
       "</div>"
      ],
      "text/plain": [
       "    pred  true  Accuracy\n",
       "27     1   1.0      True\n",
       "28     0   0.0      True\n",
       "29     1   1.0      True\n",
       "30     0   1.0     False\n",
       "31     1   1.0      True\n",
       "32     1   1.0      True\n",
       "33     1   1.0      True\n",
       "34     0   0.0      True\n",
       "35     0   1.0     False\n",
       "36     0   0.0      True"
      ]
     },
     "execution_count": 18,
     "metadata": {},
     "output_type": "execute_result"
    }
   ],
   "source": [
    "#Predicting the move for the next DAY\n",
    "SPYweek = yf.download('SPY', start = '2020-01-01', interval = '1wk', prepost = False, repair = True)\n",
    "SPYweekx = finalIndicatorTable(SPYweek)\n",
    "accuracyTester(SPYweekx, modelWeek).tail(10)\n",
    "#The last row is the prediction -> one hot encode for NaN is [0, 0]"
   ]
  },
  {
   "cell_type": "code",
   "execution_count": null,
   "id": "32938003",
   "metadata": {},
   "outputs": [],
   "source": [
    "#Run on the monthly to find the month to sell\n",
    "#Followed by running on the weekly to find the week to sell\n",
    "#Then the daily to find the day to sell\n",
    "\n",
    "#If (start of chain) 1 -> Buy\n",
    "#If (start of chain) 0 -> Sell"
   ]
  },
  {
   "cell_type": "code",
   "execution_count": 8,
   "id": "f769ebea",
   "metadata": {
    "scrolled": true
   },
   "outputs": [
    {
     "data": {
      "image/png": "[encoded data removed]",
      "text/plain": [
       "<Figure size 800x575 with 4 Axes>"
      ]
     },
     "metadata": {},
     "output_type": "display_data"
    }
   ],
   "source": [
    "mpf.plot(SPYtoday, type = 'candle', mav = (5, 20), volume = True)"
   ]
  }
 ],
 "metadata": {
  "kernelspec": {
   "display_name": "Python 3 (ipykernel)",
   "language": "python",
   "name": "python3"
  },
  "language_info": {
   "codemirror_mode": {
    "name": "ipython",
    "version": 3
   },
   "file_extension": ".py",
   "mimetype": "text/x-python",
   "name": "python",
   "nbconvert_exporter": "python",
   "pygments_lexer": "ipython3",
   "version": "3.10.8"
  }
 },
 "nbformat": 4,
 "nbformat_minor": 5
}
